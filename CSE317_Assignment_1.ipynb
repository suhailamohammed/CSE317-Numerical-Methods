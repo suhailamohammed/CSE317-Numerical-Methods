{
  "nbformat": 4,
  "nbformat_minor": 0,
  "metadata": {
    "colab": {
      "name": "CSE317_Assignment-1.ipynb",
      "provenance": [],
      "collapsed_sections": [],
      "authorship_tag": "ABX9TyON7BehWYIiz3KMV95DuqFc",
      "include_colab_link": true
    },
    "kernelspec": {
      "name": "python3",
      "display_name": "Python 3"
    },
    "language_info": {
      "name": "python"
    }
  },
  "cells": [
    {
      "cell_type": "markdown",
      "metadata": {
        "id": "view-in-github",
        "colab_type": "text"
      },
      "source": [
        "<a href=\"https://colab.research.google.com/github/Sue200/Numerical-Methods/blob/main/CSE317_Assignment_1.ipynb\" target=\"_parent\"><img src=\"https://colab.research.google.com/assets/colab-badge.svg\" alt=\"Open In Colab\"/></a>"
      ]
    },
    {
      "cell_type": "markdown",
      "source": [
        "\n",
        "\n",
        "#**Numerical Lab Assignment-1**"
      ],
      "metadata": {
        "id": "uJorxK_rBKau"
      }
    },
    {
      "cell_type": "markdown",
      "source": [
        "**Name:** Suhaila \n",
        "\n",
        "**ID:**   1910496"
      ],
      "metadata": {
        "id": "4oiEChoy7Mm0"
      }
    },
    {
      "cell_type": "code",
      "source": [
        "import numpy as np"
      ],
      "metadata": {
        "id": "6-ygqV_l7K48"
      },
      "execution_count": 1,
      "outputs": []
    },
    {
      "cell_type": "markdown",
      "source": [
        "**Q1:** Find the sum and mean of the 2nd row for a random matrix of size 5 X 10"
      ],
      "metadata": {
        "id": "F4HApZfh66iv"
      }
    },
    {
      "cell_type": "code",
      "execution_count": 17,
      "metadata": {
        "id": "leU9p2J06RGq",
        "colab": {
          "base_uri": "https://localhost:8080/"
        },
        "outputId": "0a1f1be9-80fd-4d2e-ac59-2f7c341c4a76"
      },
      "outputs": [
        {
          "output_type": "stream",
          "name": "stdout",
          "text": [
            "[[3 7 6 6 5 4 7 4 5 6]\n",
            " [6 5 5 3 7 8 3 9 5 4]\n",
            " [8 9 5 2 5 2 8 9 4 7]\n",
            " [1 8 9 9 8 7 1 6 5 3]\n",
            " [8 6 2 9 2 2 8 4 2 1]]\n",
            "sum: 55\n",
            "mean: 5.5\n"
          ]
        }
      ],
      "source": [
        "a = np.random.randint(1,10,(5,10))\n",
        "print(a)\n",
        "print(\"sum:\",a[1,:].sum())\n",
        "print(\"mean:\", a[1,:].mean())\n"
      ]
    },
    {
      "cell_type": "markdown",
      "source": [
        "**Q2:** Find the sum and mean of all the rows for a random matrix of size 5 X 10\n"
      ],
      "metadata": {
        "id": "VPevuAok_Dnq"
      }
    },
    {
      "cell_type": "code",
      "source": [
        "a = np.random.randint(1,10,(5,10))\n",
        "print(a)\n",
        "print(\"Sum:\",a.sum(axis=1))\n",
        "print(\"Mean:\",a.mean(axis=1))\n"
      ],
      "metadata": {
        "id": "nG77VdXR_Xxk",
        "colab": {
          "base_uri": "https://localhost:8080/"
        },
        "outputId": "bde13fcb-38a1-4611-ec96-ba05bfb01e7e"
      },
      "execution_count": 18,
      "outputs": [
        {
          "output_type": "stream",
          "name": "stdout",
          "text": [
            "[[1 7 9 5 4 2 3 1 9 9]\n",
            " [1 4 8 7 7 9 1 4 8 4]\n",
            " [8 2 9 6 3 1 9 3 5 6]\n",
            " [8 1 9 4 2 5 4 2 1 4]\n",
            " [5 9 6 6 7 1 7 3 5 1]]\n",
            "Sum: [50 53 52 40 50]\n",
            "Mean: [5.  5.3 5.2 4.  5. ]\n"
          ]
        }
      ]
    },
    {
      "cell_type": "markdown",
      "source": [
        "**Q3** Find the mean(v) where v is a vector without using the mean(). Let’s assume v is a\n",
        "20 X 1 random vector"
      ],
      "metadata": {
        "id": "uSM4eDO9_YFF"
      }
    },
    {
      "cell_type": "code",
      "source": [
        "v = np.random.randint(1,10,(20,1))\n",
        "print(v)\n",
        "x = v.sum()\n",
        "m = x/a.size\n",
        "print(\"mean(v):\",m)\n",
        "\n"
      ],
      "metadata": {
        "id": "5MkqtMrV_d-c",
        "colab": {
          "base_uri": "https://localhost:8080/"
        },
        "outputId": "ecdb9a8f-1e46-4dfe-ae18-88aa28cab48a"
      },
      "execution_count": 33,
      "outputs": [
        {
          "output_type": "stream",
          "name": "stdout",
          "text": [
            "[[3]\n",
            " [7]\n",
            " [9]\n",
            " [7]\n",
            " [2]\n",
            " [3]\n",
            " [2]\n",
            " [5]\n",
            " [3]\n",
            " [3]\n",
            " [6]\n",
            " [3]\n",
            " [4]\n",
            " [6]\n",
            " [8]\n",
            " [7]\n",
            " [8]\n",
            " [7]\n",
            " [6]\n",
            " [7]]\n",
            "mean(v): 5.5\n"
          ]
        }
      ]
    },
    {
      "cell_type": "markdown",
      "source": [
        "**Q4:** : Generate the vector [25 16 9 4 1] using a for loop using horizontal concatenating."
      ],
      "metadata": {
        "id": "Gh2LZoS6_eTx"
      }
    },
    {
      "cell_type": "code",
      "source": [
        "v = np.array([])\n",
        "for x in range(1,6):\n",
        "  a = np.array([x**2])\n",
        "  v = np.hstack((a,v))\n",
        "print(v)"
      ],
      "metadata": {
        "id": "KQ4MIHPy_nlw",
        "colab": {
          "base_uri": "https://localhost:8080/"
        },
        "outputId": "79ca118e-78d0-4673-8b21-d196c12a876a"
      },
      "execution_count": 31,
      "outputs": [
        {
          "output_type": "stream",
          "name": "stdout",
          "text": [
            "[25. 16.  9.  4.  1.]\n"
          ]
        }
      ]
    },
    {
      "cell_type": "markdown",
      "source": [
        "**Q5:** Given a vector like [1 4 9 16 25], output a vector containing only the elements that\n",
        "are even, i.e., [4 16]"
      ],
      "metadata": {
        "id": "ik5IMN4g_n4X"
      }
    },
    {
      "cell_type": "code",
      "source": [
        "a = np.array([1,4,9,16,25])\n",
        "bool_idx = (a%2 == 0)\n",
        "b = np.array(a[bool_idx])\n",
        "print(b)"
      ],
      "metadata": {
        "id": "1JKzdByF_vCv",
        "colab": {
          "base_uri": "https://localhost:8080/"
        },
        "outputId": "32f18994-befc-48e4-c0c6-54f35753d4bc"
      },
      "execution_count": 37,
      "outputs": [
        {
          "output_type": "stream",
          "name": "stdout",
          "text": [
            "[ 4 16]\n"
          ]
        }
      ]
    },
    {
      "cell_type": "markdown",
      "source": [
        "**Q6:** Write a function that performs that task in exercise 5 and also returns the number\n",
        "of elements in the vector."
      ],
      "metadata": {
        "id": "9xbiAWX1_vdj"
      }
    },
    {
      "cell_type": "code",
      "source": [
        "def evenVector(a):\n",
        "  bool_idx = (a%2 == 0)\n",
        "  b = np.array(a[bool_idx])\n",
        "  return b,b.size\n",
        "a = np.array([1,4,9,1,16,25])\n",
        "x = np.array([])\n",
        "x,y = evenVector(a)\n",
        "print(\"vector:\",x)\n",
        "print(\"Number of elements:\",y)"
      ],
      "metadata": {
        "id": "wIlaA4oy_4QO",
        "colab": {
          "base_uri": "https://localhost:8080/"
        },
        "outputId": "2c9171e6-68c4-4521-a06a-5cb621f59e55"
      },
      "execution_count": 30,
      "outputs": [
        {
          "output_type": "stream",
          "name": "stdout",
          "text": [
            "vector: [ 4 16]\n",
            "Number of elements: 2\n"
          ]
        }
      ]
    }
  ]
}