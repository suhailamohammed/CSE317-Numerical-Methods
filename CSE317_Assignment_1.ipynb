{
  "nbformat": 4,
  "nbformat_minor": 0,
  "metadata": {
    "colab": {
      "name": "CSE317_Assignment-1.ipynb",
      "provenance": [],
      "collapsed_sections": [],
      "authorship_tag": "ABX9TyMl6DISi6vpNW2xnylZLt69",
      "include_colab_link": true
    },
    "kernelspec": {
      "name": "python3",
      "display_name": "Python 3"
    },
    "language_info": {
      "name": "python"
    }
  },
  "cells": [
    {
      "cell_type": "markdown",
      "metadata": {
        "id": "view-in-github",
        "colab_type": "text"
      },
      "source": [
        "<a href=\"https://colab.research.google.com/github/Sue200/Numerical-Methods/blob/main/CSE317_Assignment_1.ipynb\" target=\"_parent\"><img src=\"https://colab.research.google.com/assets/colab-badge.svg\" alt=\"Open In Colab\"/></a>"
      ]
    },
    {
      "cell_type": "markdown",
      "source": [
        "\n",
        "\n",
        "#**Numerical Lab Assignment-1**"
      ],
      "metadata": {
        "id": "uJorxK_rBKau"
      }
    },
    {
      "cell_type": "markdown",
      "source": [
        "**Name:** Suhaila \n",
        "\n",
        "**ID:**   1910496"
      ],
      "metadata": {
        "id": "4oiEChoy7Mm0"
      }
    },
    {
      "cell_type": "code",
      "source": [
        "import numpy as np"
      ],
      "metadata": {
        "id": "6-ygqV_l7K48"
      },
      "execution_count": null,
      "outputs": []
    },
    {
      "cell_type": "markdown",
      "source": [
        "**Q1:** Find the sum and mean of the 2nd row for a random matrix of size 5 X 10"
      ],
      "metadata": {
        "id": "F4HApZfh66iv"
      }
    },
    {
      "cell_type": "code",
      "execution_count": null,
      "metadata": {
        "id": "leU9p2J06RGq"
      },
      "outputs": [],
      "source": [
        "a = np.random.randint(1,10,(5,10))\n",
        "print(a)\n",
        "print(\"sum:\",a[1,:].sum())\n",
        "print(\"mean:\", a[1,:].mean())\n"
      ]
    },
    {
      "cell_type": "markdown",
      "source": [
        "**Q2:** Find the sum and mean of all the rows for a random matrix of size 5 X 10\n"
      ],
      "metadata": {
        "id": "VPevuAok_Dnq"
      }
    },
    {
      "cell_type": "code",
      "source": [
        "a = np.random.randint(1,10,(5,10))\n",
        "print(a)\n",
        "print(\"Sum:\",a.sum(axis=1))\n",
        "print(\"Mean:\",a.mean(axis=1))\n"
      ],
      "metadata": {
        "id": "nG77VdXR_Xxk"
      },
      "execution_count": null,
      "outputs": []
    },
    {
      "cell_type": "markdown",
      "source": [
        "**Q3** Find the mean(v) where v is a vector without using the mean(). Let’s assume v is a\n",
        "20 X 1 random vector"
      ],
      "metadata": {
        "id": "uSM4eDO9_YFF"
      }
    },
    {
      "cell_type": "code",
      "source": [
        "a = np.random.randint(1,10,(20,1))\n",
        "print(a)\n",
        "x = a.sum()\n",
        "m = x/a.size\n",
        "print(\"mean(v):\",m)\n",
        "\n"
      ],
      "metadata": {
        "id": "5MkqtMrV_d-c"
      },
      "execution_count": null,
      "outputs": []
    },
    {
      "cell_type": "markdown",
      "source": [
        "**Q4:** : Generate the vector [25 16 9 4 1] using a for loop using horizontal concatenating."
      ],
      "metadata": {
        "id": "Gh2LZoS6_eTx"
      }
    },
    {
      "cell_type": "code",
      "source": [
        ""
      ],
      "metadata": {
        "id": "KQ4MIHPy_nlw"
      },
      "execution_count": null,
      "outputs": []
    },
    {
      "cell_type": "markdown",
      "source": [
        "**Q5:** Given a vector like [1 4 9 16 25], output a vector containing only the elements that\n",
        "are even, i.e., [4 16]"
      ],
      "metadata": {
        "id": "ik5IMN4g_n4X"
      }
    },
    {
      "cell_type": "code",
      "source": [
        "a = np.array([1,4,9,1,6,25])\n",
        "print(a)\n",
        "print(\"-------\")\n",
        "bool_idx = (a%2 == 0)\n",
        "print(a[bool_idx])"
      ],
      "metadata": {
        "id": "1JKzdByF_vCv"
      },
      "execution_count": null,
      "outputs": []
    },
    {
      "cell_type": "markdown",
      "source": [
        "**Q6:** Write a function that performs that task in exercise 5 and also returns the number\n",
        "of elements in the vector."
      ],
      "metadata": {
        "id": "9xbiAWX1_vdj"
      }
    },
    {
      "cell_type": "code",
      "source": [
        "def evenVector(a):\n",
        "  bool_idx = (a%2 == 0)\n",
        "  b = np.array(a[bool_idx])\n",
        "  print(b)\n",
        "  return b.size\n",
        "a = np.array([1,4,9,1,6,25])\n",
        "siz = evenVector(a)\n",
        "print(siz)"
      ],
      "metadata": {
        "id": "wIlaA4oy_4QO"
      },
      "execution_count": null,
      "outputs": []
    }
  ]
}