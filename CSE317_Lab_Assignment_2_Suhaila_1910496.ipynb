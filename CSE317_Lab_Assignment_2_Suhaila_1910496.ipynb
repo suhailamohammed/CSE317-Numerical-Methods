{
  "nbformat": 4,
  "nbformat_minor": 0,
  "metadata": {
    "colab": {
      "name": "CSE317_Lab-Assignment-2_Suhaila_1910496.ipynb",
      "provenance": [],
      "collapsed_sections": [],
      "toc_visible": true,
      "include_colab_link": true
    },
    "kernelspec": {
      "name": "python3",
      "display_name": "Python 3"
    },
    "language_info": {
      "name": "python"
    }
  },
  "cells": [
    {
      "cell_type": "markdown",
      "metadata": {
        "id": "view-in-github",
        "colab_type": "text"
      },
      "source": [
        "<a href=\"https://colab.research.google.com/github/Sue200/Numerical-Methods/blob/main/CSE317_Lab_Assignment_2_Suhaila_1910496.ipynb\" target=\"_parent\"><img src=\"https://colab.research.google.com/assets/colab-badge.svg\" alt=\"Open In Colab\"/></a>"
      ]
    },
    {
      "cell_type": "markdown",
      "source": [
        "**Name:** Suhaila\n",
        "<br>\n",
        "**ID:** 1910496"
      ],
      "metadata": {
        "id": "SWxnA8IgLxSK"
      }
    },
    {
      "cell_type": "markdown",
      "metadata": {
        "id": "aye6_J7499fJ"
      },
      "source": [
        "## **Problem Statement:**\n",
        "Suppose you want to predict the price of a book from the number of pages it has. You collected some data and it is stored in a csv file named bookprice.csv\n",
        "\n",
        "The n = 10 data points (a<sub>k</sub>, b<sub>k</sub>), where k = 1, 2, ..., 10  are given as below, on the right is the scatter plot of the data:\n",
        "\n",
        "<table>\n",
        "  <tr>\n",
        "    <td colspan=\"2\" align=\"center\">Data Points</td>\n",
        "    <td align=\"center\">Scatter Plot</td>\n",
        "  </tr>\n",
        "  <tr>\n",
        "    <td align=\"center\">a</td>\n",
        "    <td align=\"center\">b</td>\n",
        "    <td rowspan=\"11\" align=\"center\">\n",
        "      <img src=\"data:image/png;base64,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\" alt=\"Scatter Plot\" />\n",
        "    </td>\n",
        "  </tr>\n",
        "  <tr>\n",
        "    <td align=\"center\">166</td>\n",
        "    <td align=\"center\">54</td>\n",
        "  </tr>\n",
        "  <tr>\n",
        "    <td align=\"center\">195</td>\n",
        "    <td align=\"center\">82</td>\n",
        "  </tr>\n",
        "  <tr>\n",
        "    <td align=\"center\">200</td>\n",
        "    <td align=\"center\">72</td>\n",
        "  </tr>\n",
        "  <tr>\n",
        "    <td align=\"center\">260</td>\n",
        "    <td align=\"center\">72</td>\n",
        "  </tr>\n",
        "  <tr>\n",
        "    <td align=\"center\">265</td>\n",
        "    <td align=\"center\">90</td>\n",
        "  </tr>\n",
        "  <tr>\n",
        "    <td align=\"center\">335</td>\n",
        "    <td align=\"center\">124</td>\n",
        "  </tr>\n",
        "  <tr>\n",
        "    <td align=\"center\">370</td>\n",
        "    <td align=\"center\">94</td>\n",
        "  </tr>\n",
        "  <tr>\n",
        "    <td align=\"center\">450</td>\n",
        "    <td align=\"center\">118</td>\n",
        "  </tr>\n",
        "  <tr>\n",
        "    <td align=\"center\">517</td>\n",
        "    <td align=\"center\">152</td>\n",
        "  </tr>\n",
        "  <tr>\n",
        "    <td align=\"center\">552</td>\n",
        "    <td align=\"center\">132</td>\n",
        "  </tr>\n",
        "</table>\n",
        "\n",
        "\n",
        "What we want is to get the least square line that fits the data.\n",
        "\n",
        "That is, we want to find the coefficients $c_1$ and $c_2$ of a linear function $f(x) = c_1 + c_2 x$ such that, mean squared error $J = \\frac{1}{n} \\left\\|f(a)-b\\right\\|^2 $ is minimized.\n",
        "\n",
        "Now we know from the lecture that the values of $c_1$ and $c_2$ for which $J$ is minimum is given by,\n",
        "$$c_1 = avg(b) - avg(a)c_2 \\text{ and } c_2 = \\rho std(b)/std(a)$$\n",
        "\n",
        "You are to use the procedure below to find and plot the least square line for the above data.\n"
      ]
    },
    {
      "cell_type": "markdown",
      "metadata": {
        "id": "L_m0EBogKK3S"
      },
      "source": [
        "## **Procedure:**"
      ]
    },
    {
      "cell_type": "markdown",
      "metadata": {
        "id": "crbxWmm56UA1"
      },
      "source": [
        "#### **1. Import necessary packages:**\n",
        "To read the data from csv file we will use a python package named **\"pandas\"**. To start working with pandas we first need to import it. We will also import other necessary packages that will be needed for this lab exercise."
      ]
    },
    {
      "cell_type": "code",
      "metadata": {
        "id": "K4UgfP8N5-PL"
      },
      "source": [
        "import pandas as pd\n",
        "import numpy as np\n",
        "import matplotlib.pyplot as plt"
      ],
      "execution_count": null,
      "outputs": []
    },
    {
      "cell_type": "markdown",
      "metadata": {
        "id": "Mx72zbCvK-xa"
      },
      "source": [
        "#### **2. Upload and load dataset:**\n",
        "At first we have to upload the dataset to google colab to start working with it. Please download the **\"bookprice.csv\"** dataset from piazza resourse or [click here](https://piazza.com/class_profile/get_resource/ku1fdd7zhev3r2/ku7c2kiquo514q) to download it. Then click on files form sidebar, drag and drop your file to side bar to upload the dataset.\n",
        "\n",
        "Now, use `data = pd.read_csv(\"bookprice.csv\")` to load the data.\n"
      ]
    },
    {
      "cell_type": "code",
      "metadata": {
        "id": "_v5J2XrWA85K"
      },
      "source": [
        "data = pd.read_csv(\"bookprice.txt\",header =None)"
      ],
      "execution_count": null,
      "outputs": []
    },
    {
      "cell_type": "markdown",
      "metadata": {
        "id": "mCr8VqgRNz0w"
      },
      "source": [
        "#### **3. Seperate the data:**\n",
        "You can use simple indexing (**i.e.** `data['a']`) to seperate the data into a, b. By default this will return a panda dataset. To convert it to numpy array use `to_numpy()` method."
      ]
    },
    {
      "cell_type": "code",
      "metadata": {
        "id": "fSg4SNysCtDV"
      },
      "source": [
        "a = data[0].to_numpy()\n",
        "b = data[1].to_numpy()\n"
      ],
      "execution_count": null,
      "outputs": []
    },
    {
      "cell_type": "markdown",
      "metadata": {
        "id": "PABJcZetTvmG"
      },
      "source": [
        "#### **4. Plot the data:**\n",
        "Draw a scatter plot using `plt.scatter(a, b)`"
      ]
    },
    {
      "cell_type": "code",
      "metadata": {
        "id": "l5jww1hNUKYj",
        "colab": {
          "base_uri": "https://localhost:8080/",
          "height": 282
        },
        "outputId": "59b8c82a-1f6b-4ccc-abf7-f7901f931d2f"
      },
      "source": [
        "plt.scatter(a,b)"
      ],
      "execution_count": null,
      "outputs": [
        {
          "output_type": "execute_result",
          "data": {
            "text/plain": [
              "<matplotlib.collections.PathCollection at 0x7f07e968fed0>"
            ]
          },
          "metadata": {},
          "execution_count": 5
        },
        {
          "output_type": "display_data",
          "data": {
            "image/png": "[encoded data removed]",
            "text/plain": [
              "<Figure size 432x288 with 1 Axes>"
            ]
          },
          "metadata": {
            "needs_background": "light"
          }
        }
      ]
    },
    {
      "cell_type": "markdown",
      "metadata": {
        "id": "jPL1W0X6PYSi"
      },
      "source": [
        "#### **5. Find the value of $c_1$ and $c_2$:**\n",
        "1.   First compute the demean vectors $\\tilde{a}$ and $\\tilde{b}$ \n",
        "2.   Use the demeaned vectors $\\tilde{a}$ and $\\tilde{b}$ to compute $\\rho$, $std(a)$, and $std(b)$\n",
        "3.   Use the equation given in problem statement to find the value of $c_1$ and $c_2$\n",
        "\n",
        "[**Note:** The values you should get are $c_1 = 31.2181$ and $c_2 = 0.2048$]"
      ]
    },
    {
      "cell_type": "code",
      "metadata": {
        "id": "o93HQF9lRHTv",
        "colab": {
          "base_uri": "https://localhost:8080/"
        },
        "outputId": "586270e3-ec15-4783-ed84-1ee0f086ac9f"
      },
      "source": [
        "# Write appropriate code here\n",
        "x = len(a)\n",
        "y = len(b)\n",
        "p = np.ones(x)\n",
        "q = np.ones(y)\n",
        "\n",
        "avg_a = (np.dot(p,a))/len(a)\n",
        "avg_b = (np.dot(p,b))/len(b)\n",
        "#print(avg_a)\n",
        "a_tilt = a - (avg_a*p) \n",
        "b_tilt = b - (avg_b*q)\n",
        "\n",
        "std_a = np.sqrt(np.dot(a_tilt,a_tilt)/x)\n",
        "\n",
        "#print(std_a)\n",
        "std_b = np.sqrt(np.dot(b_tilt,b_tilt)/y)\n",
        "a_norm = np.sqrt(np.dot(a_tilt,a_tilt))\n",
        "b_norm = np.sqrt(np.dot(b_tilt,b_tilt))\n",
        "p_ab =  (np.dot(b_tilt,a_tilt))/(np.dot(a_norm,b_norm))\n",
        "c_2 = (p_ab) * (std_b/std_a)\n",
        "print(\"c2:\",c_2)\n",
        "c_1 = avg_b - avg_a*c_2\n",
        "print(\"c1:\",c_1)"
      ],
      "execution_count": null,
      "outputs": [
        {
          "output_type": "stream",
          "name": "stdout",
          "text": [
            "c2: 0.2047790728878621\n",
            "c1: 31.218126874117644\n"
          ]
        }
      ]
    },
    {
      "cell_type": "markdown",
      "metadata": {
        "id": "IkjPDxW3R8Cn"
      },
      "source": [
        "#### **6. Generate and fit data:**\n",
        "Use `np.linspace()` method to generate some data (page numbers) and plot the least square fit line (price) on the scatter plot. The graph of the fitted line should look like the following figure:\n",
        "\n",
        "![scatter.png](data:image/png;base64,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)\n"
      ]
    },
    {
      "cell_type": "code",
      "metadata": {
        "id": "YKj1EapcDXwB",
        "colab": {
          "base_uri": "https://localhost:8080/",
          "height": 282
        },
        "outputId": "6580167b-ae46-4e9f-ffcb-0cedcb9dac17"
      },
      "source": [
        "# Write appropriate code here\n",
        "plt.scatter(a,b)\n",
        "plt.plot(a, c_2*a + c_1)"
      ],
      "execution_count": null,
      "outputs": [
        {
          "output_type": "execute_result",
          "data": {
            "text/plain": [
              "[<matplotlib.lines.Line2D at 0x7f07e9194d50>]"
            ]
          },
          "metadata": {},
          "execution_count": 7
        },
        {
          "output_type": "display_data",
          "data": {
            "image/png": "[encoded data removed]",
            "text/plain": [
              "<Figure size 432x288 with 1 Axes>"
            ]
          },
          "metadata": {
            "needs_background": "light"
          }
        }
      ]
    },
    {
      "cell_type": "markdown",
      "metadata": {
        "id": "gVefi7w5aDzn"
      },
      "source": [
        "#### **7. Using numpy function: polyfit():**\n",
        "Numpy has its own polynomial fit function called polyfit. Use `np.polyfit(a, b, 1)` to get the coffecients (make sure you understand the order of the coefficients produced).\n"
      ]
    },
    {
      "cell_type": "code",
      "metadata": {
        "id": "iXa1d62gagjY",
        "colab": {
          "base_uri": "https://localhost:8080/",
          "height": 282
        },
        "outputId": "aeeec3ef-1b7f-407f-9d7b-ce99fbb0a314"
      },
      "source": [
        "# Write appropriate code here\n",
        "plt.scatter(a,b)\n",
        "m, c = np.polyfit(a,b,1)\n",
        "plt.plot(a,m*a+c)"
      ],
      "execution_count": null,
      "outputs": [
        {
          "output_type": "execute_result",
          "data": {
            "text/plain": [
              "[<matplotlib.lines.Line2D at 0x7f07e9119050>]"
            ]
          },
          "metadata": {},
          "execution_count": 8
        },
        {
          "output_type": "display_data",
          "data": {
            "image/png": "[encoded data removed]",
            "text/plain": [
              "<Figure size 432x288 with 1 Axes>"
            ]
          },
          "metadata": {
            "needs_background": "light"
          }
        }
      ]
    },
    {
      "cell_type": "markdown",
      "metadata": {
        "id": "x9UPrCd8bCW9"
      },
      "source": [
        "#### **8. Plot the quadratic polynomial:**\n",
        "The Last argument in the `np.polyfit()` function should be 1 if you want a fit a linear function. It can be some other number which will indicate the degree of the polynomial you want to fit. Plot the quadratic polynomial that fits the data.\n"
      ]
    },
    {
      "cell_type": "code",
      "metadata": {
        "id": "3KiNXeFobvkm",
        "colab": {
          "base_uri": "https://localhost:8080/",
          "height": 282
        },
        "outputId": "3bdc6b2d-3306-4ed1-ef68-9954e6955769"
      },
      "source": [
        "# Write appropriate code here\n",
        "plt.scatter(a,b)\n",
        "m, c ,d = np.polyfit(a,b,2)\n",
        "plt.plot(a,m*(a**2)+c*a + d)"
      ],
      "execution_count": null,
      "outputs": [
        {
          "output_type": "execute_result",
          "data": {
            "text/plain": [
              "[<matplotlib.lines.Line2D at 0x7f07e9081d10>]"
            ]
          },
          "metadata": {},
          "execution_count": 9
        },
        {
          "output_type": "display_data",
          "data": {
            "image/png": "[encoded data removed]",
            "text/plain": [
              "<Figure size 432x288 with 1 Axes>"
            ]
          },
          "metadata": {
            "needs_background": "light"
          }
        }
      ]
    },
    {
      "cell_type": "markdown",
      "metadata": {
        "id": "LGGMaVMVcDAf"
      },
      "source": [
        "#### **9. Goodness of fit: $r^2$ statistic:**\n",
        "A commonly used statistic that is related to the error, but is not the same as the error is the goodness-of-fit $r^2$ (r-squared) statistic. The $r^2$ statistic ranges from a value of $0$ for absolutely no relation between\n",
        "the data and the line to a value of $1$ which occurs only if all of the data fall exactly on the line, **i.e.**, no error. In some engineering disciplines, an equation fitted to data is acceptable only if $r^2 > 0.9$. Other\n",
        "engineering disciplines might find an $r^2$ low as $0.7$ acceptable for use.\n",
        "\n",
        "The $r^2$ statistic is computed as follows:\n",
        "\n",
        "\n",
        "$r^2 = 1 - SSE / SST$, where $SSE$ is the sum of squared errors: $(b - \\text{b_pred})^T(b - \\text{b_pred})$ and $SST = \\text{Total sum of squares : } (b - avg(b))^T(b - avg(b))$\n",
        "\n",
        "\n",
        "Find the **SSE** and **SST** values for the given data and the value of $r^2$ statistic.\n"
      ]
    },
    {
      "cell_type": "code",
      "metadata": {
        "id": "33729c-deQGW",
        "colab": {
          "base_uri": "https://localhost:8080/"
        },
        "outputId": "21fcb8e5-aefb-40b7-dd1b-26a405487639"
      },
      "source": [
        "# Write appropriate code here\n",
        "b_pred = c_2*a + c_1*p\n",
        "k = b - b_pred\n",
        "sst = np.dot(b_tilt,b_tilt)\n",
        "sse = np.dot(k,k)\n",
        "r_2 = 1 - (sse/sst)\n",
        "print(r_2)"
      ],
      "execution_count": null,
      "outputs": [
        {
          "output_type": "stream",
          "name": "stdout",
          "text": [
            "0.8203783401631748\n"
          ]
        }
      ]
    },
    {
      "cell_type": "markdown",
      "metadata": {
        "id": "2zLJdD4KeJD8"
      },
      "source": [
        "#### **10. Displaying the equation on the graph:**\n",
        "1.   Create a string that contains the equation. You can insert a number to a string and formate as follow: `eqn = 'y = %.2f + %.2fx' %(c_1, c_2)`\n",
        "2.   Use `plt.text(Xcor, Ycor, 'string'`) to display the equation on the graph.\n"
      ]
    },
    {
      "cell_type": "code",
      "metadata": {
        "id": "EbzZQ8Pkfq7p",
        "colab": {
          "base_uri": "https://localhost:8080/",
          "height": 282
        },
        "outputId": "f33fb1a9-8152-414c-8e53-0ce73389a14b"
      },
      "source": [
        "# Write appropriate code here\n",
        "plt.scatter(a,b)\n",
        "m, c = np.polyfit(a,b,1)\n",
        "plt.plot(a,m*a+c)\n",
        "eqn = 'y = %.2f + %.2fx' % (c_1,c_2)\n",
        "plt.text(a[1], b[1], eqn)"
      ],
      "execution_count": null,
      "outputs": [
        {
          "output_type": "execute_result",
          "data": {
            "text/plain": [
              "Text(195, 82, 'y = 31.22 + 0.20x')"
            ]
          },
          "metadata": {},
          "execution_count": 11
        },
        {
          "output_type": "display_data",
          "data": {
            "image/png": "[encoded data removed]",
            "text/plain": [
              "<Figure size 432x288 with 1 Axes>"
            ]
          },
          "metadata": {
            "needs_background": "light"
          }
        }
      ]
    },
    {
      "cell_type": "markdown",
      "metadata": {
        "id": "BL0H8sGCl57_"
      },
      "source": [
        "## **Exercise:**\n",
        "A healthy child’s systolic blood pressure p (in millimeters of mercury) and weight w (in pounds) are approximately related by the equation,\n",
        "\n",
        "$$p = \\beta_0 + \\beta_1 \\log(w)$$\n",
        "\n",
        "\n",
        "Use the following experimental data to estimate the systolic blood pressure of a healthy child weighing 100 pounds.\n",
        "\n",
        "<table>\n",
        "  <tr>\n",
        "    <td>w</td>\n",
        "    <td>44</td>\n",
        "    <td>61</td>\n",
        "    <td>81</td>\n",
        "    <td>113</td>\n",
        "    <td>131</td>\n",
        "  </tr>\n",
        "\n",
        "  <tr>\n",
        "    <td>p</td>\n",
        "    <td>91</td>\n",
        "    <td>98</td>\n",
        "    <td>103</td>\n",
        "    <td>110</td>\n",
        "    <td>112</td>\n",
        "  </tr>\n",
        "</table>"
      ]
    },
    {
      "cell_type": "code",
      "source": [
        "data = pd.read_csv(\"dataset.txt\",header =None)"
      ],
      "metadata": {
        "id": "leLF_PJUpIc_"
      },
      "execution_count": null,
      "outputs": []
    },
    {
      "cell_type": "code",
      "source": [
        "w = data[0].to_numpy()\n",
        "p = data[1].to_numpy()"
      ],
      "metadata": {
        "id": "JAyk6pcMpPgB"
      },
      "execution_count": null,
      "outputs": []
    },
    {
      "cell_type": "code",
      "metadata": {
        "id": "ahlLlK3lnEFt",
        "colab": {
          "base_uri": "https://localhost:8080/"
        },
        "outputId": "e14f86e5-1535-4306-a851-1b4cc17da49b"
      },
      "source": [
        "# Write appropriate code here\n",
        "\n",
        "#w = np.array([44,61,81,113,131])\n",
        "#p = np.array([91,98,103,110,112])\n",
        "\n",
        "x = len(w)\n",
        "y = len(p)\n",
        "i = np.ones(x)\n",
        "j = np.ones(y)\n",
        "\n",
        "#Average \n",
        "avg_w = (np.dot(i,np.log(w))/x)\n",
        "avg_p = (np.dot(j,p))/y\n",
        "\n",
        "#tilt\n",
        "w_tilt = np.log(w) - (avg_w*i) \n",
        "p_tilt = p - (avg_p*j)\n",
        "\n",
        "#standard deviation\n",
        "std_w = np.sqrt(np.dot(w_tilt,w_tilt)/x)\n",
        "std_p = np.sqrt(np.dot(p_tilt,p_tilt)/y)\n",
        "\n",
        "#Norm\n",
        "w_norm = np.sqrt(np.dot(w_tilt,w_tilt))\n",
        "p_norm = np.sqrt(np.dot(p_tilt,p_tilt))\n",
        "\n",
        "#rho\n",
        "rho_wp =  (np.dot(p_tilt,w_tilt))/(np.dot(w_norm,p_norm))\n",
        "\n",
        "#Coefficients\n",
        "b_1 = (rho_wp) * (std_p/std_w)\n",
        "print(\"b_1:\",b_1)\n",
        "b_0 = avg_p - avg_w*b_1\n",
        "print(\"b_0:\",b_0)\n",
        "\n",
        "# Finding p when w = 100\n",
        "w_100 = 100\n",
        "p_100 = b_0 + b_1*np.log(w_100)\n",
        "print(\"p when w = 100:\",p_100)\n"
      ],
      "execution_count": null,
      "outputs": [
        {
          "output_type": "stream",
          "name": "stdout",
          "text": [
            "b_1: 19.384999252209454\n",
            "b_0: 17.92434012417607\n",
            "p when w = 100: 107.1955607358525\n"
          ]
        }
      ]
    },
    {
      "cell_type": "code",
      "source": [
        "plt.scatter(w,p)\n",
        "plt.plot(w, b_0 + b_1*np.log(w) )\n",
        "eqn = 'p = %.2f + %.2flog(w)' % (b_0,b_1)\n",
        "plt.xlabel(\"w-axis\")\n",
        "plt.ylabel(\"p-axis\")\n",
        "plt.plot(w_100,p_100, marker = 'x')\n",
        "plt.text(w_100,p_100, eqn)"
      ],
      "metadata": {
        "colab": {
          "base_uri": "https://localhost:8080/",
          "height": 296
        },
        "id": "mr-1Ei5Fb_fN",
        "outputId": "e1b98445-398e-4a69-e954-82999876e437"
      },
      "execution_count": null,
      "outputs": [
        {
          "output_type": "execute_result",
          "data": {
            "text/plain": [
              "Text(100, 107.1955607358525, 'p = 17.92 + 19.38log(w)')"
            ]
          },
          "metadata": {},
          "execution_count": 26
        },
        {
          "output_type": "display_data",
          "data": {
            "image/png": "[encoded data removed]",
            "text/plain": [
              "<Figure size 432x288 with 1 Axes>"
            ]
          },
          "metadata": {
            "needs_background": "light"
          }
        }
      ]
    }
  ]
}